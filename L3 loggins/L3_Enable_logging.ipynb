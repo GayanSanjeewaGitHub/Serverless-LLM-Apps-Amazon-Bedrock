{
 "cells": [
  {
   "cell_type": "markdown",
   "id": "cc6b7b9f-a75d-4b78-930f-26d2343ac2c2",
   "metadata": {},
   "source": [
    "# Lesson 3: Enable Logging"
   ]
  },
  {
   "cell_type": "markdown",
   "id": "06fc5839-0b4b-42a3-9aaf-99a97e347955",
   "metadata": {},
   "source": [
    "### Import all needed packages"
   ]
  },
  {
   "cell_type": "code",
   "execution_count": 13,
   "id": "63cf31e4",
   "metadata": {
    "height": 98
   },
   "outputs": [],
   "source": [
    "import boto3\n",
    "import json\n",
    "import os\n",
    "\n",
    "bedrock = boto3.client('bedrock', region_name=\"us-west-2\")"
   ]
  },
  {
   "cell_type": "code",
   "execution_count": 14,
   "id": "e5d9e31b",
   "metadata": {
    "height": 47
   },
   "outputs": [],
   "source": [
    "from helpers.CloudWatchHelper import CloudWatch_Helper\n",
    "cloudwatch = CloudWatch_Helper()"
   ]
  },
  {
   "cell_type": "code",
   "execution_count": 15,
   "id": "87a30e7e",
   "metadata": {
    "height": 30
   },
   "outputs": [],
   "source": [
    "log_group_name = '/my/amazon/bedrock/logs'"
   ]
  },
  {
   "cell_type": "code",
   "execution_count": 16,
   "id": "2461a51c",
   "metadata": {
    "height": 30
   },
   "outputs": [
    {
     "name": "stdout",
     "output_type": "stream",
     "text": [
      "Log group '/my/amazon/bedrock/logs' already exists.\n"
     ]
    }
   ],
   "source": [
    "cloudwatch.create_log_group(log_group_name)"
   ]
  },
  {
   "cell_type": "code",
   "execution_count": 17,
   "id": "0afe5997",
   "metadata": {
    "height": 268
   },
   "outputs": [],
   "source": [
    "loggingConfig = {\n",
    "    'cloudWatchConfig': {\n",
    "        'logGroupName': log_group_name,\n",
    "        'roleArn': os.environ['LOGGINGROLEARN'],\n",
    "        'largeDataDeliveryS3Config': {\n",
    "            'bucketName': os.environ['LOGGINGBUCKETNAME'],\n",
    "            'keyPrefix': 'amazon_bedrock_large_data_delivery',\n",
    "        }\n",
    "    },\n",
    "    's3Config': {\n",
    "        'bucketName': os.environ['LOGGINGBUCKETNAME'],\n",
    "        'keyPrefix': 'amazon_bedrock_logs',\n",
    "    },\n",
    "    'textDataDeliveryEnabled': True,\n",
    "}"
   ]
  },
  {
   "cell_type": "code",
   "execution_count": 18,
   "id": "2ca33ffe",
   "metadata": {
    "height": 47
   },
   "outputs": [
    {
     "data": {
      "text/plain": [
       "{'ResponseMetadata': {'RequestId': 'acc53dfa-db72-40fb-991e-ed7b4a00b5ca',\n",
       "  'HTTPStatusCode': 200,\n",
       "  'HTTPHeaders': {'date': 'Sat, 15 Jun 2024 03:01:51 GMT',\n",
       "   'content-type': 'application/json',\n",
       "   'content-length': '2',\n",
       "   'connection': 'keep-alive',\n",
       "   'x-amzn-requestid': 'acc53dfa-db72-40fb-991e-ed7b4a00b5ca'},\n",
       "  'RetryAttempts': 0}}"
      ]
     },
     "execution_count": 18,
     "metadata": {},
     "output_type": "execute_result"
    }
   ],
   "source": [
    "bedrock.put_model_invocation_logging_configuration(loggingConfig=loggingConfig)"
   ]
  },
  {
   "cell_type": "code",
   "execution_count": 19,
   "id": "41fdb20d",
   "metadata": {
    "height": 30
   },
   "outputs": [
    {
     "data": {
      "text/plain": [
       "{'ResponseMetadata': {'RequestId': '184a7eb7-2911-4e06-b138-c9f1771193d9',\n",
       "  'HTTPStatusCode': 200,\n",
       "  'HTTPHeaders': {'date': 'Sat, 15 Jun 2024 03:01:51 GMT',\n",
       "   'content-type': 'application/json',\n",
       "   'content-length': '572',\n",
       "   'connection': 'keep-alive',\n",
       "   'x-amzn-requestid': '184a7eb7-2911-4e06-b138-c9f1771193d9'},\n",
       "  'RetryAttempts': 0},\n",
       " 'loggingConfig': {'cloudWatchConfig': {'logGroupName': '/my/amazon/bedrock/logs',\n",
       "   'roleArn': 'arn:aws:iam::226464672723:role/c99355a2566044l6923191t1w22646467272-LoggingIAMRole-Yqhgq3vsmvjO',\n",
       "   'largeDataDeliveryS3Config': {'bucketName': 'c99355a2566044l6923191t1w226464672-loggings3bucket-r0qsdnvyixt7',\n",
       "    'keyPrefix': 'amazon_bedrock_large_data_delivery'}},\n",
       "  's3Config': {'bucketName': 'c99355a2566044l6923191t1w226464672-loggings3bucket-r0qsdnvyixt7',\n",
       "   'keyPrefix': 'amazon_bedrock_logs'},\n",
       "  'textDataDeliveryEnabled': True,\n",
       "  'imageDataDeliveryEnabled': True,\n",
       "  'embeddingDataDeliveryEnabled': True}}"
      ]
     },
     "execution_count": 19,
     "metadata": {},
     "output_type": "execute_result"
    }
   ],
   "source": [
    "bedrock.get_model_invocation_logging_configuration()"
   ]
  },
  {
   "cell_type": "code",
   "execution_count": 20,
   "id": "95ebecb7",
   "metadata": {
    "height": 47
   },
   "outputs": [],
   "source": [
    "bedrock_runtime = boto3.client('bedrock-runtime', region_name=\"us-west-2\")"
   ]
  },
  {
   "cell_type": "code",
   "execution_count": 21,
   "id": "402c6311",
   "metadata": {
    "height": 421
   },
   "outputs": [
    {
     "name": "stdout",
     "output_type": "stream",
     "text": [
      "\n",
      "Foobar is a fictional planet in the popular science fiction series \"Star Trek.\" The planet was first mentioned in the original series in the episode \"The Trouble with Tribbles,\" which aired in 1967. The planet is home to a race of small, furry creatures known as tribbles. Tribbles are peaceful and harmless, but they reproduce rapidly and have a tendency to cling to anything they touch.\n",
      "\n",
      "The Federation crew of the USS Enterprise visits Foobar in search of a rare and valuable mineral that can be used to power their ship. The crew is greeted by the planet's leader, Mr. Spock, who is a half-human, half-Vulcan. Spock explains that the tribbles are a nuisance to the planet's population, but they are essential to the planet's economy.\n",
      "\n",
      "The crew quickly learns that the tribbles are being harvested by a group of aliens known as the Klingons. The Klingons are a fierce and aggressive race who are constantly at war with each other. They use the tribbles as a food source and as a means of causing chaos and destruction among their enemies.\n",
      "\n",
      "The Enterprise crew must work together to stop the Klingons from harvesting the tribbles and to protect the planet's population. They use their advanced technology and diplomacy to negotiate a peace treaty with the Klingons, and they also work to destroy the Klingon fleet that is attacking Foobar.\n",
      "\n",
      "In the end, the Enterprise crew successfully saves Foobar and the tribbles. The planet's population is grateful for the crew's assistance, and Mr. Spock is proud of the team's efforts. Foobar is a popular and memorable planet in the \"Star Trek\" universe, and its story has been retold in several other episodes and movies. The planet's unique ecosystem and the conflict between the Klingons and the tribbles have made it a beloved and iconic part of the franchise.\n"
     ]
    }
   ],
   "source": [
    "prompt = \"Write an article about the fictional planet Foobar.\"\n",
    "\n",
    "kwargs = {\n",
    "    \"modelId\": \"amazon.titan-text-express-v1\",\n",
    "    \"contentType\": \"application/json\",\n",
    "    \"accept\": \"*/*\",\n",
    "    \"body\": json.dumps(\n",
    "        {\n",
    "            \"inputText\": prompt,\n",
    "            \"textGenerationConfig\": {\n",
    "                \"maxTokenCount\": 512,\n",
    "                \"temperature\": 0.7,\n",
    "                \"topP\": 0.9\n",
    "            }\n",
    "        }\n",
    "    )\n",
    "}\n",
    "\n",
    "response = bedrock_runtime.invoke_model(**kwargs)\n",
    "response_body = json.loads(response.get('body').read())\n",
    "\n",
    "generation = response_body['results'][0]['outputText']\n",
    "\n",
    "print(generation)"
   ]
  },
  {
   "cell_type": "code",
   "execution_count": 22,
   "id": "68a7bab7",
   "metadata": {
    "height": 30
   },
   "outputs": [
    {
     "name": "stdout",
     "output_type": "stream",
     "text": [
      "Permissions are correctly set for Amazon Bedrock logs.\n",
      "-------------------------\n",
      "\n"
     ]
    }
   ],
   "source": [
    "cloudwatch.print_recent_logs(log_group_name)"
   ]
  },
  {
   "cell_type": "markdown",
   "id": "1118acfb",
   "metadata": {},
   "source": [
    "To review the logs within the AWS console, please use the following link to reference the steps outlined in the video:"
   ]
  },
  {
   "cell_type": "code",
   "execution_count": 23,
   "id": "2cf443d2",
   "metadata": {
    "height": 47
   },
   "outputs": [],
   "source": [
    "from IPython.display import HTML\n",
    "aws_url = os.environ['AWS_CONSOLE_URL']"
   ]
  },
  {
   "cell_type": "code",
   "execution_count": 24,
   "id": "0b7c904c",
   "metadata": {
    "height": 47
   },
   "outputs": [
    {
     "data": {
      "text/html": [
       "<a href=\"https://signin.aws.amazon.com/federation?Action=login&SigninToken=o8dr_bM4sMNnZNirRMkAgK7WRSgGM8YF33bcMXb0rEVnRbV2XQ8HLvh9gR_qHZtY7jSMRYCXU5a9QVCSWkk9em6CRoIGt0tOBP19-QL9Sfx0c-DY2dqnYnwo7kPJNvUe9lPpRcwpY25lSS6hykTlqscLwzUFUokzuSQQtZcg3QfBrIYGredS5pETp8FCUfZ5urXP_c0GP7y0xtnB87btLDFlYBI0U_i33mbkKthZG7BWAfILeCnAD4yP_zAIw4Gzo4edDXMgCgRdppCgjIBGgCnn72MGWgSDWOK24abqw4DdqGv9bRELdoXzlQcs3zT4kb8O-LbBb8kdJarE2_lWrJAFfEbAZwweUaIG0UrFXJs0607bm6NNxFUDdXrvZ-N75TIA0qxwPmqGlR7hG_9h66W-gLzXz5l5H6x3P7APFOH9v42oRiAmjQ7MTVkRLmNKdkUaeQX1OKrFnnBGhEDOfMC52GDRQWZpJmiJv7dyS1_3E24zV_8TvdwK4eZ6Gd9rDOznaNIfenlE0XWdymVnfva9qW7SzWBeIopEnET_mKIvONpBOh0flulj8Qw8QhtRpzc_V6Uxb9c0n5t0ctXx10GPGA4bo_Q4X0H5LLRHyfoAcO1f8ZVMHPvV69nVgOodgfzFLAh4vMktPyFW1gvr0F2TvLfJDQeGD_Z6z6vsCkG9xtzlM4nNtJf-K-UWWt50UoN1tXxXyzwW5y3TaHIjRgbbag9lTjzOux_F0dZVPuMRQNMbHTQT8JOeQsMXaoOtoawJUYe3HZx-s6rfMMBYMCoi_Hrynp7U1t7lohPhF1jU0_HfQ8fq6IF1b6csoWat-uSMwD60sJX4dAf0dsYoW5sVvnXDokK7oWhmsSjMr8KSVrU997DE-U2F_2XgbVCigFk8Ww7-TYGxUEoe2lhxBsLLW_4bnVb40VftFpAtmavV4GqQRd2zuDPoTlZaC9-2NpTX9fvNs0oLHAVTwRo-rqZw2E3N4_IpfjrTxU8DfNpdRlDNFIyY3jAsFZa_5Fkp3fbbgHl7pHhNVF1L-bDPzh2LIw6jCRFAh9VB2sRKJTp5VOoMwUc2JfVUJus7uGUY1oFWvveMWouHvemwG4yExtU19KXKmzW0e6rVJEKLMvBDfdOEFjBeHVtycaF0GyUmeM6dgcTUvSwHcJPSt-HxUTjIuhs_uslOyxnK3iFVy45OHyrBrF4P6y-QOxaZdo2zaHGMfRMUj5En4HUU5cIl4UNqexz7Rjif27zSs_cNd3OsNttvuRIdxnDNzAY2EPHDPUBUwywstGph8VPr9RHf_Wo3MQxQ58xaiEccN2xVPH6vivVTr9mbJ88bUuPe6taFZuGEA06VORl9D6KMIZ2O8p_piTIUj2bN0lwSPFWOXZZNxE8Y3X_ShB5drRKpK8cqVS46ut7D0MsLPVV2pA8vaClf4o9D0oV4uW7YwTXVkhBRIsK_IGc&Issuer=https%3A%2F%2Fapi.vocareum.com&Destination=https%3A%2F%2Fconsole.aws.amazon.com%2Fconsole%2Fhome%3Fregion%3Dus-west-2\" target=\"_blank\">GO TO AWS CONSOLE</a>"
      ],
      "text/plain": [
       "<IPython.core.display.HTML object>"
      ]
     },
     "execution_count": 24,
     "metadata": {},
     "output_type": "execute_result"
    }
   ],
   "source": [
    "HTML(f'<a href=\"{aws_url}\" target=\"_blank\">GO TO AWS CONSOLE</a>')\n"
   ]
  }
 ],
 "metadata": {
  "kernelspec": {
   "display_name": "Python 3 (ipykernel)",
   "language": "python",
   "name": "python3"
  },
  "language_info": {
   "codemirror_mode": {
    "name": "ipython",
    "version": 3
   },
   "file_extension": ".py",
   "mimetype": "text/x-python",
   "name": "python",
   "nbconvert_exporter": "python",
   "pygments_lexer": "ipython3",
   "version": "3.11.9"
  }
 },
 "nbformat": 4,
 "nbformat_minor": 5
}
